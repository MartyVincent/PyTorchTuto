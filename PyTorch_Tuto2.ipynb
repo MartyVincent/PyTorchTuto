{
  "nbformat": 4,
  "nbformat_minor": 0,
  "metadata": {
    "colab": {
      "provenance": []
    },
    "kernelspec": {
      "name": "python3",
      "display_name": "Python 3"
    },
    "language_info": {
      "name": "python"
    }
  },
  "cells": [
    {
      "cell_type": "markdown",
      "source": [
        "## Torch Autograd"
      ],
      "metadata": {
        "id": "A9PtSNx2Cg7I"
      }
    },
    {
      "cell_type": "code",
      "execution_count": 17,
      "metadata": {
        "id": "_zoqowburfhO"
      },
      "outputs": [],
      "source": [
        "import torch\n",
        "from torchvision.models import resnet18, ResNet18_Weights\n",
        "model = resnet18(weights=ResNet18_Weights.DEFAULT) #Utilisation d'un modèle pré entrainé\n",
        "\n",
        "data = torch.rand(1, 3, 64, 64) #Ici on obtient une image en couleur de taille 64x64\n",
        "# Le 1 représente le nombre d'image\n",
        "# Le 3 représente le nombre de canaux de couleur (RGB)\n",
        "# La taille de l'image est de 64x64\n",
        "# Les valeurs sont des variables aléatoires uniformes comprises\n",
        "labels = torch.rand(1, 1000) #tensor de taille 1000 de variable aléatoire uniforme dans [0,1]"
      ]
    },
    {
      "cell_type": "code",
      "source": [
        "data[0] #Sélection de la 1ère image\n",
        "data[0][0] #valeur du rouge\n",
        "data[0][1] #valeur du vert\n",
        "data[0][2] #valeur du bleu"
      ],
      "metadata": {
        "colab": {
          "base_uri": "https://localhost:8080/"
        },
        "id": "YLyEIdb1XWrN",
        "outputId": "b1352557-8b37-404b-ad0f-5ec1a27671f1"
      },
      "execution_count": 18,
      "outputs": [
        {
          "output_type": "execute_result",
          "data": {
            "text/plain": [
              "tensor([[0.7207, 0.1218, 0.7022,  ..., 0.5293, 0.3872, 0.9124],\n",
              "        [0.3753, 0.0727, 0.8493,  ..., 0.7765, 0.0800, 0.1002],\n",
              "        [0.7235, 0.9746, 0.4326,  ..., 0.9798, 0.8872, 0.1199],\n",
              "        ...,\n",
              "        [0.9210, 0.4000, 0.5745,  ..., 0.7547, 0.9454, 0.6108],\n",
              "        [0.3263, 0.4572, 0.4528,  ..., 0.5154, 0.1316, 0.2462],\n",
              "        [0.0651, 0.2648, 0.1849,  ..., 0.2933, 0.8811, 0.0258]])"
            ]
          },
          "metadata": {},
          "execution_count": 18
        }
      ]
    },
    {
      "cell_type": "code",
      "source": [
        "prediction = model(data)\n",
        "# Forward pass, on fait passer les données à travers le model pour obtenir une prédiction."
      ],
      "metadata": {
        "id": "bz2bHfKDsLjZ"
      },
      "execution_count": 19,
      "outputs": []
    },
    {
      "cell_type": "code",
      "source": [
        "loss = (prediction - labels).sum() #Calcul de la fonction de perte par la somme des différences\n",
        "lossL1 = (prediction - labels).abs().sum() #Calcul de la fonction de perte par la somme des différences absolue\n",
        "lossMSE = ((prediction - labels)**2).mean() #Calcul de la fonction de perte par la moyenne des différences au carré\n",
        "\n",
        "#loss.backward() #Calcul du gradient de la fonction de perte par rapport aux paramètres du modèle\n",
        "#lossL1.backward() #Calcul du gradient de la fonction de perte par rapport aux paramètres du modèle\n",
        "lossMSE.backward() #Calcul du gradient de la fonction de perte par rapport aux paramètres du modèle"
      ],
      "metadata": {
        "id": "DogwywyQsZVQ"
      },
      "execution_count": 20,
      "outputs": []
    },
    {
      "cell_type": "code",
      "source": [
        "print(loss)\n",
        "print(lossL1)\n",
        "print(lossMSE)"
      ],
      "metadata": {
        "colab": {
          "base_uri": "https://localhost:8080/"
        },
        "id": "gI8_J281FtTQ",
        "outputId": "e31934d6-b2cb-4fb3-e5b7-d43e5360c874"
      },
      "execution_count": 28,
      "outputs": [
        {
          "output_type": "stream",
          "name": "stdout",
          "text": [
            "tensor(-489.3982, grad_fn=<SumBackward0>)\n",
            "tensor(807.4490, grad_fn=<SumBackward0>)\n",
            "tensor(1.0121, grad_fn=<MeanBackward0>)\n"
          ]
        }
      ]
    },
    {
      "cell_type": "code",
      "source": [
        "#Définition de l'optimiseur\n",
        "#Ici on utilise l'optimiseur SGD (Descente de Gradient Stochastique)\n",
        "#lr définit le taux d'apprentissage\n",
        "optim = torch.optim.SGD(model.parameters(), lr=1e-2, momentum=0.9)"
      ],
      "metadata": {
        "id": "dyKC74hTscSg"
      },
      "execution_count": 10,
      "outputs": []
    },
    {
      "cell_type": "code",
      "source": [
        "#On ajuste les paramètre du modèle en appliquant une descente de gradient pour minimiser la fonction de perte\n",
        "optim.step()"
      ],
      "metadata": {
        "id": "EwCvIXXYsikA"
      },
      "execution_count": 11,
      "outputs": []
    },
    {
      "cell_type": "markdown",
      "source": [
        "## Differentiation in Autograd"
      ],
      "metadata": {
        "id": "lbsXR9xcDfuE"
      }
    },
    {
      "cell_type": "code",
      "source": [
        "#On crée un tensor a = [2.,3.], requires_grad=True indique que tout les gradients de a doivent être calculé\n",
        "a = torch.tensor([4., 3.], requires_grad=True)\n",
        "#On crée un tensor b = [6.,4.], requires_grad=True indique que tout les gradients de b doivent être calculé\n",
        "b = torch.tensor([6., 4.], requires_grad=True)"
      ],
      "metadata": {
        "id": "0ed8hr0NskG_"
      },
      "execution_count": 37,
      "outputs": []
    },
    {
      "cell_type": "code",
      "source": [
        "Q = 3*a**3 - b**2 # On crée un tensor Q à partir de a et b\n",
        "Q"
      ],
      "metadata": {
        "id": "HlJSHFGMs5Y4",
        "colab": {
          "base_uri": "https://localhost:8080/"
        },
        "outputId": "c0a8c1d9-ec0e-4d23-b658-df1feea435f2"
      },
      "execution_count": 38,
      "outputs": [
        {
          "output_type": "execute_result",
          "data": {
            "text/plain": [
              "tensor([156.,  65.], grad_fn=<SubBackward0>)"
            ]
          },
          "metadata": {},
          "execution_count": 38
        }
      ]
    },
    {
      "cell_type": "code",
      "source": [
        "external_grad = torch.tensor([1., 1.]) # Point de départ de la rétropropagation\n",
        "Q.backward(gradient=external_grad) #Calcul du gradient de la fonction de perte par rapport aux paramètres avec requires_grad=True"
      ],
      "metadata": {
        "id": "yHqiryJos8dY"
      },
      "execution_count": 39,
      "outputs": []
    },
    {
      "cell_type": "code",
      "source": [
        "print(9*a**2)\n",
        "print(-2*b)\n",
        "\n",
        "print(a.grad) #Gradient de a\n",
        "print(b.grad) #Gradient de b"
      ],
      "metadata": {
        "colab": {
          "base_uri": "https://localhost:8080/"
        },
        "id": "nMPI8xx_t-go",
        "outputId": "810a1ead-ccbf-48ca-c07c-771b7c2f36f2"
      },
      "execution_count": 43,
      "outputs": [
        {
          "output_type": "stream",
          "name": "stdout",
          "text": [
            "tensor([144.,  81.], grad_fn=<MulBackward0>)\n",
            "tensor([-12.,  -8.], grad_fn=<MulBackward0>)\n",
            "tensor([144.,  81.])\n",
            "tensor([-12.,  -8.])\n"
          ]
        }
      ]
    },
    {
      "cell_type": "code",
      "source": [
        "print(9*a**2 == a.grad)\n",
        "print(-2*b == b.grad)"
      ],
      "metadata": {
        "colab": {
          "base_uri": "https://localhost:8080/"
        },
        "id": "QekS8Qh1uJ1I",
        "outputId": "77a5a281-c8ef-454e-8e96-c331b580e2d0"
      },
      "execution_count": null,
      "outputs": [
        {
          "output_type": "stream",
          "name": "stdout",
          "text": [
            "tensor([True, True])\n",
            "tensor([True, True])\n"
          ]
        }
      ]
    },
    {
      "cell_type": "markdown",
      "source": [
        "## Exclusion from the DAG"
      ],
      "metadata": {
        "id": "vML77sjuLGpu"
      }
    },
    {
      "cell_type": "code",
      "source": [
        "x = torch.randn(5, 5) #On crée un tensor de taille 5x5 de variable aléatoire normale centrée réduite\n",
        "y = torch.rand(5, 5) #On crée un tensor de taille 5x5 de variable aléatoire uniforme\n",
        "z = torch.rand((5, 5), requires_grad=True) #On crée un tensor de taille 5x5 de variable aléatoire uniforme\n",
        "\n",
        "a = x + y\n",
        "print(f\"Does `a` require gradients?: {a.requires_grad}\")\n",
        "b = x + z\n",
        "print(f\"Does `b` require gradients?: {b.requires_grad}\")\n",
        "c = x + y + z\n",
        "print(f\"Does `c` require gradients?: {c.requires_grad}\")"
      ],
      "metadata": {
        "id": "kuxkq4_Budh_",
        "colab": {
          "base_uri": "https://localhost:8080/"
        },
        "outputId": "69df4351-e4a6-4aab-9eec-6f5afc30bf6b"
      },
      "execution_count": 49,
      "outputs": [
        {
          "output_type": "stream",
          "name": "stdout",
          "text": [
            "Does `a` require gradients?: False\n",
            "Does `b` require gradients?: True\n",
            "Does `c` require gradients?: True\n"
          ]
        }
      ]
    },
    {
      "cell_type": "code",
      "source": [
        "from torch import nn, optim\n",
        "\n",
        "model = resnet18(weights=ResNet18_Weights.DEFAULT)\n",
        "\n",
        "#On gèle l'ensemble des paramètres du model, donc lors de l'autograd les gradient ne seront pas calculés sur ces paramètres\n",
        "for param in model.parameters():\n",
        "    param.requires_grad = False"
      ],
      "metadata": {
        "id": "x9kUFwVqLLsM"
      },
      "execution_count": 50,
      "outputs": []
    },
    {
      "cell_type": "code",
      "source": [
        "model.fc = nn.Linear(512, 10)\n",
        "#model.fc fait référence à la dernière couche du modèle. Ici on créer un classificateur avec 10 labels."
      ],
      "metadata": {
        "id": "zDEYUeibN0G_"
      },
      "execution_count": 51,
      "outputs": []
    },
    {
      "cell_type": "code",
      "source": [
        "#Comme tous les paramètre sont gelés sauf le classificateur, l'optimisation ne se fait seulement que sur celle ci.\n",
        "optimizer = optim.SGD(model.parameters(), lr=1e-2, momentum=0.9)"
      ],
      "metadata": {
        "id": "CyhzY5PDN12m"
      },
      "execution_count": 52,
      "outputs": []
    },
    {
      "cell_type": "code",
      "source": [],
      "metadata": {
        "id": "LHnuTPDUN3IG"
      },
      "execution_count": null,
      "outputs": []
    }
  ]
}