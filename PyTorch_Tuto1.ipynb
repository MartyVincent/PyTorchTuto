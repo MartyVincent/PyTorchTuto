{
  "nbformat": 4,
  "nbformat_minor": 0,
  "metadata": {
    "colab": {
      "provenance": []
    },
    "kernelspec": {
      "name": "python3",
      "display_name": "Python 3"
    },
    "language_info": {
      "name": "python"
    }
  },
  "cells": [
    {
      "cell_type": "code",
      "execution_count": null,
      "metadata": {
        "id": "15K-jyWzU0sn"
      },
      "outputs": [],
      "source": [
        "import torch\n",
        "import numpy as np"
      ]
    },
    {
      "cell_type": "markdown",
      "source": [
        "## Tensor Initialization"
      ],
      "metadata": {
        "id": "D4G2R9H8ID5A"
      }
    },
    {
      "cell_type": "code",
      "source": [
        "#Les tensors sont similaires aux arrays mais ils peuvent être utilisés sur le GPU.\n",
        "#On peut créer des tensors directement à partir de données, le type des données est conservé.\n",
        "data = [[1, 2], [3, 4]]\n",
        "x_data = torch.tensor(data)\n",
        "x_data"
      ],
      "metadata": {
        "colab": {
          "base_uri": "https://localhost:8080/"
        },
        "id": "kLpUAVfGU3sr",
        "outputId": "82a2c3db-2434-484c-9192-164469c799bb"
      },
      "execution_count": null,
      "outputs": [
        {
          "output_type": "execute_result",
          "data": {
            "text/plain": [
              "tensor([[1, 2],\n",
              "        [3, 4]])"
            ]
          },
          "metadata": {},
          "execution_count": 3
        }
      ]
    },
    {
      "cell_type": "code",
      "source": [
        "np_array = np.array(data)\n",
        "x_np = torch.from_numpy(np_array) # On peut créer un tensor à partir d'un array numpy.\n",
        "x_np"
      ],
      "metadata": {
        "colab": {
          "base_uri": "https://localhost:8080/"
        },
        "id": "E3LGoStLWXB4",
        "outputId": "5cd0c48b-246a-43bd-c42e-7f77def281b4"
      },
      "execution_count": null,
      "outputs": [
        {
          "output_type": "execute_result",
          "data": {
            "text/plain": [
              "tensor([[1, 2],\n",
              "        [3, 4]])"
            ]
          },
          "metadata": {},
          "execution_count": 4
        }
      ]
    },
    {
      "cell_type": "code",
      "source": [
        "#On crée un tensor remplis de 1 de même shape que x_data.\n",
        "x_ones = torch.ones_like(x_data)\n",
        "print(f\"Ones Tensor: \\n {x_ones} \\n\")\n",
        "\n",
        "#Ici on change le type de donnée en float, les données seront entièrement des uns.\n",
        "x_ones = torch.ones_like(x_data, dtype=torch.float)\n",
        "print(f\"Ones Tensor float: \\n {x_ones} \\n\")\n",
        "\n",
        "#Ici on change le type de donnée en float, les données seront des valeurs aléatoire uniforme dans [0,1].\n",
        "x_rand = torch.rand_like(x_data, dtype=torch.float)\n",
        "print(f\"Random Tensor: \\n {x_rand} \\n\")"
      ],
      "metadata": {
        "colab": {
          "base_uri": "https://localhost:8080/"
        },
        "id": "IMGVyihcWfhX",
        "outputId": "eca6abbc-bf3b-4ced-d33d-348b46b94a87"
      },
      "execution_count": null,
      "outputs": [
        {
          "output_type": "stream",
          "name": "stdout",
          "text": [
            "Ones Tensor: \n",
            " tensor([[1, 1],\n",
            "        [1, 1]]) \n",
            "\n",
            "Ones Tensor float: \n",
            " tensor([[1., 1.],\n",
            "        [1., 1.]]) \n",
            "\n",
            "Random Tensor: \n",
            " tensor([[0.4183, 0.0968],\n",
            "        [0.0047, 0.3690]]) \n",
            "\n"
          ]
        }
      ]
    },
    {
      "cell_type": "code",
      "source": [
        "shape1 = (2, 3,) #2 lignes 3 colonnes\n",
        "rand_tensor1 = torch.rand(shape1) #Valeur aléatoire uniforme dans [0,1] et shape (2,3)\n",
        "ones_tensor1 = torch.ones(shape1) #Tensor de 1 avec shape (2,3)\n",
        "zeros_tensor1 = torch.zeros(shape1) #Tensor de 0 avec shape (2,3)\n",
        "\n",
        "shape2 = (4, 2,) #4 lignes 2 colonnes\n",
        "rand_tensor2 = 2*torch.rand(shape2) + 1 #Valeur aléatoire uniforme dans [1,3] et shape (4,2)\n",
        "ones_tensor2 = torch.ones(shape2, dtype=torch.int) #Tensor de 1 avec shape (4,2) et type int\n",
        "zeros_tensor2 = torch.zeros(shape2) #Tensor de 0 avec shape (4,2)\n",
        "\n",
        "\n",
        "#Print des tensors\n",
        "print(f\"Shape 1 (2,3) \\n\")\n",
        "\n",
        "print(f\"Random Tensor: \\n {rand_tensor1} \\n\")\n",
        "print(f\"Ones Tensor: \\n {ones_tensor1} \\n\")\n",
        "print(f\"Zeros Tensor: \\n {zeros_tensor1} \\n\")\n",
        "\n",
        "print(f\"Shape 2 (4,2) \\n\")\n",
        "\n",
        "print(f\"Random Tensor: \\n {rand_tensor2} \\n\")\n",
        "print(f\"Ones Tensor: \\n {ones_tensor2} \\n\") #Les valeurs afficher sont bien des int\n",
        "print(f\"Zeros Tensor: \\n {zeros_tensor2}\")"
      ],
      "metadata": {
        "colab": {
          "base_uri": "https://localhost:8080/"
        },
        "id": "tXTPVN8GWqjg",
        "outputId": "3059bce0-f662-4d7e-9a7e-336ab8f2bcf6"
      },
      "execution_count": null,
      "outputs": [
        {
          "output_type": "stream",
          "name": "stdout",
          "text": [
            "Shape 1 (2,3) \n",
            "\n",
            "Random Tensor: \n",
            " tensor([[0.5791, 0.0992, 0.6649],\n",
            "        [0.3478, 0.4387, 0.0820]]) \n",
            "\n",
            "Ones Tensor: \n",
            " tensor([[1., 1., 1.],\n",
            "        [1., 1., 1.]]) \n",
            "\n",
            "Zeros Tensor: \n",
            " tensor([[0., 0., 0.],\n",
            "        [0., 0., 0.]]) \n",
            "\n",
            "Shape 2 (4,2) \n",
            "\n",
            "Random Tensor: \n",
            " tensor([[1.4645, 2.2881],\n",
            "        [2.7536, 2.0906],\n",
            "        [2.4274, 2.5246],\n",
            "        [2.2308, 1.5044]]) \n",
            "\n",
            "Ones Tensor: \n",
            " tensor([[1, 1],\n",
            "        [1, 1],\n",
            "        [1, 1],\n",
            "        [1, 1]], dtype=torch.int32) \n",
            "\n",
            "Zeros Tensor: \n",
            " tensor([[0., 0.],\n",
            "        [0., 0.],\n",
            "        [0., 0.],\n",
            "        [0., 0.]])\n"
          ]
        }
      ]
    },
    {
      "cell_type": "markdown",
      "source": [
        "## Tensor Attributes"
      ],
      "metadata": {
        "id": "YMucKUDyIJKB"
      }
    },
    {
      "cell_type": "code",
      "source": [
        "tensor = torch.rand(3, 4) #Valeur aléatoire uniforme dans [0,1] et de taille 3x4\n",
        "print(f\"Shape of tensor: {tensor.shape}\") #On affiche la taille de notre tensor\n",
        "print(f\"Datatype of tensor: {tensor.dtype}\") #On affiche le type de donnée dans notre tensor\n",
        "print(f\"Device tensor is stored on: {tensor.device}\") #On vérifie sur quel apparail notre tensors est stocké (CPU, GPU)"
      ],
      "metadata": {
        "colab": {
          "base_uri": "https://localhost:8080/"
        },
        "id": "gFPgUk1xXWUW",
        "outputId": "26b3833c-5d92-4982-c64f-691365877685"
      },
      "execution_count": null,
      "outputs": [
        {
          "output_type": "stream",
          "name": "stdout",
          "text": [
            "Shape of tensor: torch.Size([3, 4])\n",
            "Datatype of tensor: torch.float32\n",
            "Device tensor is stored on: cpu\n"
          ]
        }
      ]
    },
    {
      "cell_type": "markdown",
      "source": [
        "## Tensor Operations"
      ],
      "metadata": {
        "id": "NMtdKf4xINsv"
      }
    },
    {
      "cell_type": "code",
      "source": [
        "# We move our tensor to the GPU if available\n",
        "# Il faut vérifier qu'un GPU est utilisé sous google colab\n",
        "print(torch.cuda.is_available())\n",
        "if torch.cuda.is_available():\n",
        "  tensor = tensor.to('cuda')\n",
        "print(f\"Device tensor is stored on: {tensor.device}\")"
      ],
      "metadata": {
        "colab": {
          "base_uri": "https://localhost:8080/"
        },
        "id": "Mqx7lKcHod4n",
        "outputId": "98327874-ac94-497a-a99b-9270034787be"
      },
      "execution_count": null,
      "outputs": [
        {
          "output_type": "stream",
          "name": "stdout",
          "text": [
            "False\n",
            "Device tensor is stored on: cpu\n"
          ]
        }
      ]
    },
    {
      "cell_type": "code",
      "source": [
        "tensor = torch.ones(4, 4)\n",
        "tensor[:,1] = 0 #On remplace toute la 2ème colonne par 0\n",
        "print(tensor)\n",
        "\n",
        "tensor[0,2:] += 2 #On rajoute 2 à la première ligne à partir de l'indice 2\n",
        "print(tensor)\n",
        "\n",
        "t1 = torch.cat([tensor, tensor, tensor], dim=1) #On concatene 3 tensors\n",
        "print(t1)"
      ],
      "metadata": {
        "colab": {
          "base_uri": "https://localhost:8080/"
        },
        "id": "xfwRzs5YpB2p",
        "outputId": "99477f5e-ece3-4be4-fdda-d2447044e261"
      },
      "execution_count": null,
      "outputs": [
        {
          "output_type": "stream",
          "name": "stdout",
          "text": [
            "tensor([[1., 0., 1., 1.],\n",
            "        [1., 0., 1., 1.],\n",
            "        [1., 0., 1., 1.],\n",
            "        [1., 0., 1., 1.]])\n",
            "tensor([[1., 0., 3., 3.],\n",
            "        [1., 0., 1., 1.],\n",
            "        [1., 0., 1., 1.],\n",
            "        [1., 0., 1., 1.]])\n",
            "tensor([[1., 0., 3., 3., 1., 0., 3., 3., 1., 0., 3., 3.],\n",
            "        [1., 0., 1., 1., 1., 0., 1., 1., 1., 0., 1., 1.],\n",
            "        [1., 0., 1., 1., 1., 0., 1., 1., 1., 0., 1., 1.],\n",
            "        [1., 0., 1., 1., 1., 0., 1., 1., 1., 0., 1., 1.]])\n"
          ]
        }
      ]
    },
    {
      "cell_type": "code",
      "source": [
        "#On multiplie élément par élément\n",
        "print(f\"tensor.mul(tensor) \\n {tensor.mul(tensor)} \\n\")\n",
        "#Même chose mais syntaxe différente\n",
        "print(f\"tensor * tensor \\n {tensor * tensor}\")"
      ],
      "metadata": {
        "colab": {
          "base_uri": "https://localhost:8080/"
        },
        "id": "9IW2q1ZUpWVx",
        "outputId": "7a970a5f-6c76-4185-a31f-59515f43c209"
      },
      "execution_count": null,
      "outputs": [
        {
          "output_type": "stream",
          "name": "stdout",
          "text": [
            "tensor.mul(tensor) \n",
            " tensor([[1., 0., 4., 4.],\n",
            "        [1., 0., 1., 1.],\n",
            "        [1., 0., 1., 1.],\n",
            "        [1., 0., 1., 1.]]) \n",
            "\n",
            "tensor * tensor \n",
            " tensor([[1., 0., 4., 4.],\n",
            "        [1., 0., 1., 1.],\n",
            "        [1., 0., 1., 1.],\n",
            "        [1., 0., 1., 1.]])\n"
          ]
        }
      ]
    },
    {
      "cell_type": "code",
      "source": [
        "#Multiplication matriciel\n",
        "print(f\"tensor.matmul(tensor.T) \\n {tensor.matmul(tensor.T)} \\n\")\n",
        "#Même chose mais syntaxe différente\n",
        "print(f\"tensor @ tensor.T \\n {tensor @ tensor.T}\")"
      ],
      "metadata": {
        "colab": {
          "base_uri": "https://localhost:8080/"
        },
        "id": "PFGpIBf5qUvX",
        "outputId": "77e76251-387e-4218-e53c-9423ae1f07bf"
      },
      "execution_count": null,
      "outputs": [
        {
          "output_type": "stream",
          "name": "stdout",
          "text": [
            "tensor.matmul(tensor.T) \n",
            " tensor([[9., 5., 5., 5.],\n",
            "        [5., 3., 3., 3.],\n",
            "        [5., 3., 3., 3.],\n",
            "        [5., 3., 3., 3.]]) \n",
            "\n",
            "tensor @ tensor.T \n",
            " tensor([[9., 5., 5., 5.],\n",
            "        [5., 3., 3., 3.],\n",
            "        [5., 3., 3., 3.],\n",
            "        [5., 3., 3., 3.]])\n"
          ]
        }
      ]
    },
    {
      "cell_type": "code",
      "source": [
        "print(tensor, \"\\n\")\n",
        "tensor.add_(5) #On rajoute 5 à toutes les valeurs.\n",
        "print(tensor)"
      ],
      "metadata": {
        "colab": {
          "base_uri": "https://localhost:8080/"
        },
        "id": "lH7kBxapqi7R",
        "outputId": "5d458d5a-1b71-45cf-ea88-f1260ecb7e62"
      },
      "execution_count": null,
      "outputs": [
        {
          "output_type": "stream",
          "name": "stdout",
          "text": [
            "tensor([[1., 0., 2., 2.],\n",
            "        [1., 0., 1., 1.],\n",
            "        [1., 0., 1., 1.],\n",
            "        [1., 0., 1., 1.]]) \n",
            "\n",
            "tensor([[6., 5., 7., 7.],\n",
            "        [6., 5., 6., 6.],\n",
            "        [6., 5., 6., 6.],\n",
            "        [6., 5., 6., 6.]])\n"
          ]
        }
      ]
    },
    {
      "cell_type": "markdown",
      "source": [
        "## Bridge with NumPy"
      ],
      "metadata": {
        "id": "-zytP_npITks"
      }
    },
    {
      "cell_type": "code",
      "source": [
        "t = torch.ones(5) # On crée un tensor de taille 5 remplis de 1\n",
        "print(f\"t: {t}\")\n",
        "n = t.numpy() # On crée un array à partir du tensor t\n",
        "print(f\"n: {n} \\n\")\n",
        "\n",
        "#Quand on crée un array à partir d'un tensor, les deux variables ont la même allocation mémoire.\n",
        "#Donc si on modifie l'un, on modifie l'autre aussi.\n",
        "t.add_(1)\n",
        "print(\"Après modification:\")\n",
        "print(f\"t: {t}\")\n",
        "print(f\"n: {n}\")"
      ],
      "metadata": {
        "colab": {
          "base_uri": "https://localhost:8080/"
        },
        "id": "3Hnxns8HqseY",
        "outputId": "c7f1aaa4-a045-4010-c30b-8b90b92d90eb"
      },
      "execution_count": null,
      "outputs": [
        {
          "output_type": "stream",
          "name": "stdout",
          "text": [
            "t: tensor([1., 1., 1., 1., 1.])\n",
            "n: [1. 1. 1. 1. 1.] \n",
            "\n",
            "Après modification:\n",
            "t: tensor([2., 2., 2., 2., 2.])\n",
            "n: [2. 2. 2. 2. 2.]\n"
          ]
        }
      ]
    },
    {
      "cell_type": "code",
      "source": [
        "n = np.ones(5) #On crée un array de taille 5 remplis de 1\n",
        "t = torch.from_numpy(n) # On crée un tensor à partir de l'array n\n",
        "\n",
        "#La réciproque est vraie aussi, i.e créer un tensor à partir d'un array allouera le même espace mémoire.\n",
        "#Donc si on modifie l'un, on modifie l'autre aussi.\n",
        "np.add(n, 1, out=n)\n",
        "print(f\"t: {t}\")\n",
        "print(f\"n: {n}\")"
      ],
      "metadata": {
        "colab": {
          "base_uri": "https://localhost:8080/"
        },
        "id": "CXIKwLWtrD31",
        "outputId": "82aaca0b-7661-4b51-8f38-d10c83f3409f"
      },
      "execution_count": null,
      "outputs": [
        {
          "output_type": "stream",
          "name": "stdout",
          "text": [
            "t: tensor([2., 2., 2., 2., 2.], dtype=torch.float64)\n",
            "n: [2. 2. 2. 2. 2.]\n"
          ]
        }
      ]
    },
    {
      "cell_type": "code",
      "source": [],
      "metadata": {
        "id": "3mW0L1rNrJhl"
      },
      "execution_count": null,
      "outputs": []
    }
  ]
}