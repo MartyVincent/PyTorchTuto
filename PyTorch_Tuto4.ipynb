{
  "nbformat": 4,
  "nbformat_minor": 0,
  "metadata": {
    "colab": {
      "provenance": []
    },
    "kernelspec": {
      "name": "python3",
      "display_name": "Python 3"
    },
    "language_info": {
      "name": "python"
    }
  },
  "cells": [
    {
      "cell_type": "markdown",
      "source": [
        "## Training an image classifier"
      ],
      "metadata": {
        "id": "hCY-e8U9J9xE"
      }
    },
    {
      "cell_type": "code",
      "execution_count": 1,
      "metadata": {
        "id": "yhxVNtEFJimX"
      },
      "outputs": [],
      "source": [
        "import torch\n",
        "import torchvision\n",
        "import torchvision.transforms as transforms"
      ]
    },
    {
      "cell_type": "code",
      "source": [
        "\n",
        "transform = transforms.Compose( #On combine plusieurs transformations en une seule\n",
        "    [transforms.ToTensor(), # On convertit une image ou un tableau en tensor\n",
        "     transforms.Normalize((0.5, 0.5, 0.5), (0.5, 0.5, 0.5))]) # On normalise les images avec un écart type de 0.5\n",
        "                                                              # et une moyenne de 0.5 pour chaque canal RGB.\n",
        "batch_size = 4 # On définit le nombre d'images traités en même temps par le modèle.\n",
        "\n",
        "## Initialisation du jeu d'entrainement ##\n",
        "\n",
        "# On télécharge le jeu de donnée\n",
        "trainset = torchvision.datasets.CIFAR10(root='./data', train=True, #train = True indique que c'est l'ensemble du jeu d'entrainement\n",
        "                                        download=True, transform=transform) # On applique la transformation\n",
        "\n",
        "# On crée un chargeur de données qui gère l'itération sur l'ensemble de données par lots.\n",
        "trainloader = torch.utils.data.DataLoader(trainset, batch_size=batch_size, #Nombre d'image par lot\n",
        "                                          shuffle=True, num_workers=2) #On mélange les données et on utilise 2 sous-processus\n",
        "\n",
        "## Initialisation du jeu de test ##\n",
        "\n",
        "#Même principe que pour le jeu d'entrainement\n",
        "testset = torchvision.datasets.CIFAR10(root='./data', train=False, # train = false car c'est l'ensemble pour tester le modèle\n",
        "                                       download=True, transform=transform)\n",
        "testloader = torch.utils.data.DataLoader(testset, batch_size=batch_size,\n",
        "                                         shuffle=False, num_workers=2)\n",
        "\n",
        "#On définit le nom des différentes classes\n",
        "classes = ('plane', 'car', 'bird', 'cat',\n",
        "           'deer', 'dog', 'frog', 'horse', 'ship', 'truck')"
      ],
      "metadata": {
        "colab": {
          "base_uri": "https://localhost:8080/"
        },
        "id": "-v73jtSVJosO",
        "outputId": "b46e836f-3fa3-4d17-c39a-19d0cab9dfbb"
      },
      "execution_count": 2,
      "outputs": [
        {
          "output_type": "stream",
          "name": "stdout",
          "text": [
            "Downloading https://www.cs.toronto.edu/~kriz/cifar-10-python.tar.gz to ./data/cifar-10-python.tar.gz\n"
          ]
        },
        {
          "output_type": "stream",
          "name": "stderr",
          "text": [
            "100%|██████████| 170498071/170498071 [00:02<00:00, 67191941.37it/s]\n"
          ]
        },
        {
          "output_type": "stream",
          "name": "stdout",
          "text": [
            "Extracting ./data/cifar-10-python.tar.gz to ./data\n",
            "Files already downloaded and verified\n"
          ]
        }
      ]
    },
    {
      "cell_type": "code",
      "source": [
        "import matplotlib.pyplot as plt\n",
        "import numpy as np\n",
        "\n",
        "# functions to show an image\n",
        "\n",
        "\n",
        "def imshow(img):\n",
        "    img = img / 2 + 0.5 #On fait la transformée inverse, on ramène les valeurs des pixels dans [0,1]\n",
        "    npimg = img.numpy() #On transforme le tensor en image numpy\n",
        "    plt.imshow(np.transpose(npimg, (1, 2, 0))) #On réorganise les tableaux pour pouvoir les affichers\n",
        "    plt.show() #On affiche l'image\n",
        "\n",
        "\n",
        "dataiter = iter(trainloader) # On crée un itérateur sur les données d'entrainement\n",
        "images, labels = next(dataiter) #On récupère le prochain lot d'image grâce à l'itérateur\n",
        "\n",
        "imshow(torchvision.utils.make_grid(images)) # On affiche les images\n",
        "print(' '.join(f'{classes[labels[j]]:5s}' for j in range(batch_size))) #labels"
      ],
      "metadata": {
        "colab": {
          "base_uri": "https://localhost:8080/",
          "height": 211
        },
        "id": "T1EdQmtGJryR",
        "outputId": "07c0bac8-26e4-4adc-e9e5-f9b39ee1db75"
      },
      "execution_count": 3,
      "outputs": [
        {
          "output_type": "display_data",
          "data": {
            "text/plain": [
              "<Figure size 640x480 with 1 Axes>"
            ],
            "image/png": "[encoded data removed]"
          },
          "metadata": {}
        },
        {
          "output_type": "stream",
          "name": "stdout",
          "text": [
            "truck car   truck plane\n"
          ]
        }
      ]
    },
    {
      "cell_type": "markdown",
      "source": [
        "## Define a Convolutional Neural Network"
      ],
      "metadata": {
        "id": "0BvKEQKkkmw0"
      }
    },
    {
      "cell_type": "code",
      "source": [
        "import torch.nn as nn\n",
        "import torch.nn.functional as F\n",
        "\n",
        "\n",
        "class Net(nn.Module):\n",
        "    def __init__(self):\n",
        "        super().__init__()\n",
        "        self.conv1 = nn.Conv2d(3, 6, 5) #couche convolutive, 3 canaux d'entrée, 6 canaux de sortie et un noyau 5x5\n",
        "        self.pool = nn.MaxPool2d(2, 2) #On crée des fenêtre de taille 2x2 où on assigne le max de chaque fenêtre.\n",
        "        self.conv2 = nn.Conv2d(6, 16, 5) #couche convolutive, 6 canaux d'entrée, 16 canaux de sortie et un noyau 5x5\n",
        "        self.fc1 = nn.Linear(16 * 5 * 5, 120) #couche connectée, 16x5x5 = 400 entrées, 120 sorties.\n",
        "        self.fc2 = nn.Linear(120, 84) #2ème couche connectée 120 entrées et 84 sorties\n",
        "        self.fc3 = nn.Linear(84, 10) #3ème couche connectée 84 entrées pour 10 sorties représentants les 10 classes à prédire.\n",
        "\n",
        "    def forward(self, x): #forward pass\n",
        "        x = self.pool(F.relu(self.conv1(x)))\n",
        "        # ReLU introduit de la non-linéarité au model en remplaçant les valeurs négatives par zéro.\n",
        "        x = self.pool(F.relu(self.conv2(x)))\n",
        "        x = torch.flatten(x, 1) # On transforme une matrice multidimensionnelle en vecteur unidimensionnel\n",
        "        x = F.relu(self.fc1(x))\n",
        "        x = F.relu(self.fc2(x))\n",
        "        x = self.fc3(x)\n",
        "        return x\n",
        "\n",
        "\n",
        "net = Net()"
      ],
      "metadata": {
        "id": "Bfct_HMwj3K8"
      },
      "execution_count": 5,
      "outputs": []
    },
    {
      "cell_type": "markdown",
      "source": [
        "## Define a Loss function and optimizer"
      ],
      "metadata": {
        "id": "L-gm-_vrktyW"
      }
    },
    {
      "cell_type": "code",
      "source": [
        "import torch.optim as optim\n",
        "\n",
        "criterion = nn.CrossEntropyLoss() #On définit la fonction de perte\n",
        "optimizer = optim.SGD(net.parameters(), lr=0.001, momentum=0.9) #On créer un optimiseur SGD"
      ],
      "metadata": {
        "id": "ULthGTZxkqVL"
      },
      "execution_count": 6,
      "outputs": []
    },
    {
      "cell_type": "markdown",
      "source": [
        "## Train the network"
      ],
      "metadata": {
        "id": "zVhk-TbTk2UL"
      }
    },
    {
      "cell_type": "code",
      "source": [
        "for epoch in range(2):  #Le modèle parcourt les données 2 fois.\n",
        "\n",
        "    running_loss = 0.0 #On initialise la perte cumulée sur chaque parcourt\n",
        "    for i, data in enumerate(trainloader, 0): #On parcourt les données d'entrainement\n",
        "\n",
        "        inputs, labels = data\n",
        "\n",
        "        # On réinitialise les gradients de chaque paramètre à 0.\n",
        "        optimizer.zero_grad()\n",
        "\n",
        "        # forward + backward + optimize\n",
        "        outputs = net(inputs)\n",
        "        loss = criterion(outputs, labels) #On calcule la perte.\n",
        "        loss.backward()\n",
        "        optimizer.step()\n",
        "\n",
        "        # print statistics\n",
        "        running_loss += loss.item() #On ajoute la perte à la perte cumulée\n",
        "        if i % 2000 == 1999:    # print every 2000 mini-batches\n",
        "            print(f'[{epoch + 1}, {i + 1:5d}] loss: {running_loss / 2000:.3f}')\n",
        "            running_loss = 0.0\n",
        "\n",
        "print('Finished Training')"
      ],
      "metadata": {
        "colab": {
          "base_uri": "https://localhost:8080/"
        },
        "id": "bTnK_Tickw7j",
        "outputId": "bea8eb90-4a8d-4eb0-aeed-a7410f1265a1"
      },
      "execution_count": 7,
      "outputs": [
        {
          "output_type": "stream",
          "name": "stdout",
          "text": [
            "[1,  2000] loss: 2.194\n",
            "[1,  4000] loss: 1.899\n",
            "[1,  6000] loss: 1.710\n",
            "[1,  8000] loss: 1.582\n",
            "[1, 10000] loss: 1.515\n",
            "[1, 12000] loss: 1.466\n",
            "[2,  2000] loss: 1.414\n",
            "[2,  4000] loss: 1.376\n",
            "[2,  6000] loss: 1.367\n",
            "[2,  8000] loss: 1.315\n",
            "[2, 10000] loss: 1.315\n",
            "[2, 12000] loss: 1.287\n",
            "Finished Training\n"
          ]
        }
      ]
    },
    {
      "cell_type": "code",
      "source": [
        "PATH = './cifar_net.pth'\n",
        "torch.save(net.state_dict(), PATH)"
      ],
      "metadata": {
        "id": "nd9TXG_dlgVD"
      },
      "execution_count": 8,
      "outputs": []
    },
    {
      "cell_type": "markdown",
      "source": [
        "## Test the network on the test data"
      ],
      "metadata": {
        "id": "JFuBpun4luvL"
      }
    },
    {
      "cell_type": "code",
      "source": [
        "dataiter = iter(testloader) # On crée un itérateur sur les données d'entrainement\n",
        "images, labels = next(dataiter) #On récupère le prochain lot d'image grâce à l'itérateur\n",
        "\n",
        "# print images\n",
        "imshow(torchvision.utils.make_grid(images))\n",
        "print('GroundTruth: ', ' '.join(f'{classes[labels[j]]:5s}' for j in range(4)))"
      ],
      "metadata": {
        "colab": {
          "base_uri": "https://localhost:8080/",
          "height": 211
        },
        "id": "pLGUFrOElxNa",
        "outputId": "0e590971-4f61-40f5-c24a-aae2786580dc"
      },
      "execution_count": 9,
      "outputs": [
        {
          "output_type": "display_data",
          "data": {
            "text/plain": [
              "<Figure size 640x480 with 1 Axes>"
            ],
            "image/png": "[encoded data removed]"
          },
          "metadata": {}
        },
        {
          "output_type": "stream",
          "name": "stdout",
          "text": [
            "GroundTruth:  cat   ship  ship  plane\n"
          ]
        }
      ]
    },
    {
      "cell_type": "code",
      "source": [
        "net = Net() #On crée une instance du réseau de neurone.\n",
        "net.load_state_dict(torch.load(PATH, weights_only=True)) #On charge les poids pré-enregistré dans PATH"
      ],
      "metadata": {
        "colab": {
          "base_uri": "https://localhost:8080/"
        },
        "id": "ypGdZCaDmDwS",
        "outputId": "316b8ace-e03b-4ef7-8ee1-4c21d20ff9b7"
      },
      "execution_count": 10,
      "outputs": [
        {
          "output_type": "execute_result",
          "data": {
            "text/plain": [
              "<All keys matched successfully>"
            ]
          },
          "metadata": {},
          "execution_count": 10
        }
      ]
    },
    {
      "cell_type": "code",
      "source": [
        "outputs = net(images) # On passe les images à travers le modèle"
      ],
      "metadata": {
        "id": "8ydY2buNmF5C"
      },
      "execution_count": 11,
      "outputs": []
    },
    {
      "cell_type": "code",
      "source": [
        "_, predicted = torch.max(outputs, 1) #On prends les indices avec les scores les plus élevé pour chaque image.\n",
        "\n",
        "print('Predicted: ', ' '.join(f'{classes[predicted[j]]:5s}'\n",
        "                              for j in range(4)))"
      ],
      "metadata": {
        "colab": {
          "base_uri": "https://localhost:8080/"
        },
        "id": "_n8rLUkHmGzS",
        "outputId": "71c0ae99-8f85-42e8-c145-b4cbc3b7492e"
      },
      "execution_count": 12,
      "outputs": [
        {
          "output_type": "stream",
          "name": "stdout",
          "text": [
            "Predicted:  cat   car   car   plane\n"
          ]
        }
      ]
    },
    {
      "cell_type": "code",
      "source": [
        "correct = 0 #Compteur d'images correctes\n",
        "total = 0 #Compteur de nombre d'images testées\n",
        "# since we're not training, we don't need to calculate the gradients for our outputs\n",
        "with torch.no_grad():\n",
        "    for data in testloader: #On boucle sur nos données de test\n",
        "        images, labels = data\n",
        "        outputs = net(images) #On passe les images à travers le modèle pour les prédires\n",
        "        _, predicted = torch.max(outputs.data, 1) #On prends l'indice de classe le plus élevée pour chaque image\n",
        "        total += labels.size(0)\n",
        "        correct += (predicted == labels).sum().item()\n",
        "\n",
        "print(f'Accuracy of the network on the 10000 test images: {100 * correct // total} %')"
      ],
      "metadata": {
        "colab": {
          "base_uri": "https://localhost:8080/"
        },
        "id": "wWHhJIwnnBp3",
        "outputId": "65d89fa1-2470-48ff-da43-9a7ab2ee0d88"
      },
      "execution_count": 13,
      "outputs": [
        {
          "output_type": "stream",
          "name": "stdout",
          "text": [
            "Accuracy of the network on the 10000 test images: 53 %\n"
          ]
        }
      ]
    },
    {
      "cell_type": "code",
      "source": [
        "# On calcul la précision pour chaque classe\n",
        "correct_pred = {classname: 0 for classname in classes}\n",
        "total_pred = {classname: 0 for classname in classes}\n",
        "\n",
        "# again no gradients needed\n",
        "with torch.no_grad():\n",
        "    for data in testloader: #On boucle sur nos données de test\n",
        "        images, labels = data\n",
        "        outputs = net(images) #On passe les images à travers le modèle pour les prédires\n",
        "        _, predictions = torch.max(outputs, 1) #On prends l'indice de classe le plus élevée pour chaque image\n",
        "        # collect the correct predictions for each class\n",
        "        for label, prediction in zip(labels, predictions):\n",
        "            if label == prediction:\n",
        "                correct_pred[classes[label]] += 1\n",
        "            total_pred[classes[label]] += 1\n",
        "\n",
        "\n",
        "# print accuracy for each class\n",
        "for classname, correct_count in correct_pred.items():\n",
        "    accuracy = 100 * float(correct_count) / total_pred[classname]\n",
        "    print(f'Accuracy for class: {classname:5s} is {accuracy:.1f} %')"
      ],
      "metadata": {
        "colab": {
          "base_uri": "https://localhost:8080/"
        },
        "id": "4Iw5N2DenqFt",
        "outputId": "26fa8d15-0d31-4177-9919-a2c9a7a69686"
      },
      "execution_count": 14,
      "outputs": [
        {
          "output_type": "stream",
          "name": "stdout",
          "text": [
            "Accuracy for class: plane is 51.4 %\n",
            "Accuracy for class: car   is 69.2 %\n",
            "Accuracy for class: bird  is 24.8 %\n",
            "Accuracy for class: cat   is 27.7 %\n",
            "Accuracy for class: deer  is 61.4 %\n",
            "Accuracy for class: dog   is 24.4 %\n",
            "Accuracy for class: frog  is 60.3 %\n",
            "Accuracy for class: horse is 81.0 %\n",
            "Accuracy for class: ship  is 73.1 %\n",
            "Accuracy for class: truck is 63.9 %\n"
          ]
        }
      ]
    },
    {
      "cell_type": "markdown",
      "source": [
        "## Training on GPU"
      ],
      "metadata": {
        "id": "Prdh0pueoN80"
      }
    },
    {
      "cell_type": "code",
      "source": [
        "device = torch.device('cuda:0' if torch.cuda.is_available() else 'cpu') # On vérifie si un gpu est disponible sinon cpu\n",
        "\n",
        "# Assuming that we are on a CUDA machine, this should print a CUDA device:\n",
        "\n",
        "print(device)"
      ],
      "metadata": {
        "colab": {
          "base_uri": "https://localhost:8080/"
        },
        "id": "CNwDu2DCnxU0",
        "outputId": "d2fbde06-40fd-419b-bf51-c59c4e7ad645"
      },
      "execution_count": 15,
      "outputs": [
        {
          "output_type": "stream",
          "name": "stdout",
          "text": [
            "cpu\n"
          ]
        }
      ]
    },
    {
      "cell_type": "code",
      "source": [
        "net.to(device) #On déplace le modèle sur device (gpu ou cpu)"
      ],
      "metadata": {
        "colab": {
          "base_uri": "https://localhost:8080/"
        },
        "id": "MLdEeLQBogfj",
        "outputId": "77678bf1-7ace-4e44-c3ea-8db09b0d57dd"
      },
      "execution_count": 16,
      "outputs": [
        {
          "output_type": "execute_result",
          "data": {
            "text/plain": [
              "Net(\n",
              "  (conv1): Conv2d(3, 6, kernel_size=(5, 5), stride=(1, 1))\n",
              "  (pool): MaxPool2d(kernel_size=2, stride=2, padding=0, dilation=1, ceil_mode=False)\n",
              "  (conv2): Conv2d(6, 16, kernel_size=(5, 5), stride=(1, 1))\n",
              "  (fc1): Linear(in_features=400, out_features=120, bias=True)\n",
              "  (fc2): Linear(in_features=120, out_features=84, bias=True)\n",
              "  (fc3): Linear(in_features=84, out_features=10, bias=True)\n",
              ")"
            ]
          },
          "metadata": {},
          "execution_count": 16
        }
      ]
    },
    {
      "cell_type": "code",
      "source": [
        "inputs, labels = data[0].to(device), data[1].to(device) #On déplace les données sur device"
      ],
      "metadata": {
        "id": "nIAWxDiyoiak"
      },
      "execution_count": 17,
      "outputs": []
    },
    {
      "cell_type": "code",
      "source": [
        "del dataiter #On supprime l'itérateur pour libérer de la mémoire"
      ],
      "metadata": {
        "id": "wQZg45jJokda"
      },
      "execution_count": 18,
      "outputs": []
    },
    {
      "cell_type": "code",
      "source": [],
      "metadata": {
        "id": "l-CFHULRp_1r"
      },
      "execution_count": null,
      "outputs": []
    }
  ]
}